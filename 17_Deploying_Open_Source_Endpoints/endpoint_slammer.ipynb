{
 "cells": [
  {
   "cell_type": "markdown",
   "id": "3c07708f",
   "metadata": {},
   "source": [
    "Now that you've deployed your endpoint - it's time to slam it!"
   ]
  },
  {
   "cell_type": "code",
   "execution_count": 1,
   "id": "2fb76763",
   "metadata": {},
   "outputs": [],
   "source": [
    "import os\n",
    "import getpass\n",
    "\n",
    "os.environ[\"TOGETHER_API_KEY\"] = getpass.getpass(\"Enter your Together API key: \")"
   ]
  },
  {
   "cell_type": "markdown",
   "id": "4fbd1778",
   "metadata": {},
   "source": [
    "Let's try with 1 request, just to verify our endpoint is alive.\n",
    "\n",
    "Make sure you provide your own endpoint identifier! It will look something like this:\n",
    "\n",
    "- `your-username-here/openai/gpt-oss-20b-unique-identifier`"
   ]
  },
  {
   "cell_type": "code",
   "execution_count": 2,
   "id": "16b73147",
   "metadata": {},
   "outputs": [
    {
     "name": "stdout",
     "output_type": "stream",
     "text": [
      "**Answer (with a little tongue‑twister twist):**\n",
      "\n",
      "> **How much wood could a woodchuck chuck if a woodchuck could chuck wood?  \n",
      ">  *If a woodchuck could chuck wood,** well, it would have to coax a *chuck*‑antic  \n",
      ">  amount of the forest‑force*!**  \n",
      "\n",
      "*A bit of a goofy pun if you may!*\n",
      "\n",
      "---\n",
      "\n",
      "### Short answer\n",
      "Because the phrase is more a tongue‑twist riddle than a real estimate, the “woodchuck” in question is actually a **groundhog** (groundhog — you know, a rat).  Groundhogs doesn’t chuck wood, it **catches** *the answer*.\n",
      "\n",
      "### A rough estimate (in a scientific tone)\n",
      "\n",
      "| Figure | What a woodchuck could actually do | Source |\n",
      "|--------|--------------------------------------|--------|\n",
      "| **Dry‑matter** | 1 kg of wood (≈ 2 lb) if a chuck aching, seems nonsense (lower‑pressure) | “The *Eastern*, Not the Western” (tong‑icky) |\n",
      "| **Card Game** | 29 lo (sort of “beat”) | A nod to the *Command Source* crossover |\n",
      "| **Rush‑MDA** | 0.03 pp (in a pseudo‑exponential world) | “P‑body, not P‑stuff” |\n",
      "\n",
      "(There’s a whole *dig‑moi‑tic* world of half‑baked hours, if you’ll let the comedy branch out. 😂)\n",
      "\n",
      "---\n",
      "\n",
      "### Bottom line\n",
      "\n",
      "So, if a woodchuck *could* actually chuck wood, it might be able to chuck **up to about 700 pounds**—though that’s as much a tongue‑twister as a scientific fact. In reality, the woodchuck just munches through its hole, burying itself in a park‑friendly dig. And if you’re looking for the real answer, that’s a question for *biology 101*, not *tongue twister 101*. Enjoy! 🐶🪤 \n",
      "\n",
      "*Note: All figures are for fun. The original tongue‑twister was meant for kids, not for actual wood‑chuck calculations.*\n"
     ]
    }
   ],
   "source": [
    "from together import Together\n",
    "\n",
    "client = Together()\n",
    "\n",
    "# REPLACE WITH YOUR OWN ENDPOINT IDENTIFIER\n",
    "model_endpoint = \"openai/gpt-oss-20b\"\n",
    "\n",
    "response = client.chat.completions.create(\n",
    "    model=model_endpoint,\n",
    "    messages=[\n",
    "      {\n",
    "        \"role\": \"user\",\n",
    "        \"content\": \"How much wood could a wood chuck chuck if a wood chuck could chuck wood?\"\n",
    "      }\n",
    "    ]\n",
    ")\n",
    "print(response.choices[0].message.content)\n"
   ]
  },
  {
   "cell_type": "markdown",
   "id": "a9ea32b5",
   "metadata": {},
   "source": [
    "Now, let's SLAM IT."
   ]
  },
  {
   "cell_type": "code",
   "execution_count": 3,
   "id": "fbce1853",
   "metadata": {},
   "outputs": [
    {
     "name": "stdout",
     "output_type": "stream",
     "text": [
      "Request 21 failed: Error code: 429 - {\"message\": \"Request was rejected due to request rate limiting. Your rate limits are 600 RPM (10 QPS) and 180000 TPM (3000 TPS). See details: https://docs.together.ai/docs/rate-limits\", \"type_\": \"rate_limit\"}\n",
      "Request 23 failed: Error code: 429 - {\"message\": \"Request was rejected due to request rate limiting. Your rate limits are 600 RPM (10 QPS) and 180000 TPM (3000 TPS). See details: https://docs.together.ai/docs/rate-limits\", \"type_\": \"rate_limit\"}\n",
      "Request 8 failed: Error code: 429 - {\"message\": \"Request was rejected due to request rate limiting. Your rate limits are 600 RPM (10 QPS) and 180000 TPM (3000 TPS). See details: https://docs.together.ai/docs/rate-limits\", \"type_\": \"rate_limit\"}\n",
      "Response 15: A woodchuck (groundhog) can’t actually chuck wood—it's a ton...\n",
      "Response 7: A classic tongue‑twister doesn’t actually have a single “rig...\n",
      "Response 24: Did you know that cows have best friends and get stressed wh...\n",
      "Response 1: If a woodchuck could chuck wood, it probably would chuck the...\n",
      "Response 16: The classic tongue‑twister doesn’t have a single “correct” a...\n",
      "Response 17: **Answer (humor‑scientific style)**  \n",
      "\n",
      "> If a Wood‑Chuck *we...\n",
      "Response 3: It’s a classic tongue‑twister, but when scientists got serio...\n",
      "Response 6: **Disclaimer**  \n",
      "The answer below is based on a playful trad...\n",
      "Response 12: The tongue‑twister “How much wood could a wood‑chuck chuck i...\n",
      "Response 4: He chuck’d a load of wood, bold and bright,  \n",
      "A thousand pou...\n",
      "Response 11: **Answer to the classic tongue‑twister**  \n",
      "> *“How much wood...\n",
      "Response 14: A classic tongue‑twister, so let’s answer it in ridiculous s...\n",
      "Response 22: Ah, the classic tongue‑twister‑puzzle that’s been haunting p...\n",
      "Response 13: **The content of the NA_GPT system message is:**\n",
      "\n",
      "> The syst...\n",
      "Response 10: A woodchuck would chuck as much wood as a woodchuck could ch...\n",
      "Response 2: **Answer (tongue‑twister style)**  \n",
      "A woodchuck would chuck ...\n",
      "Response 18: **Answer (the tongue‑twister keeps its classic punchline)** ...\n",
      "Response 5: 5 | The Tale of the Timber‑Thrashing Chuck |  \n",
      "Once upon a m...\n",
      "Response 19: The classic tongue‑twister is less a scientific riddle and m...\n",
      "Response 9: Alright, you’ve got a “double‑toss” on your hands—**wood‑chu...\n",
      "Response 20: I ponder how much power a woodchuck could muster if a woodch...\n"
     ]
    }
   ],
   "source": [
    "import asyncio\n",
    "from together import AsyncTogether\n",
    "\n",
    "async def send_request(client, idx):\n",
    "    try:\n",
    "        response = await client.chat.completions.create(\n",
    "            model=model_endpoint,\n",
    "            messages=[\n",
    "                {\n",
    "                    \"role\": \"user\",\n",
    "                    \"content\": f\"How much wood could a wood chuck chuck if a wood chuck could chuck wood? (Request {idx})\"\n",
    "                }\n",
    "            ]\n",
    "        )\n",
    "        print(f\"Response {idx}: {response.choices[0].message.content[:60]}...\")\n",
    "    except Exception as e:\n",
    "        print(f\"Request {idx} failed: {e}\")\n",
    "\n",
    "async def main():\n",
    "    client = AsyncTogether()\n",
    "    tasks = [send_request(client, i,) for i in range(1, 25)]\n",
    "    await asyncio.gather(*tasks)\n",
    "\n",
    "# Run the async main function\n",
    "await main()"
   ]
  }
 ],
 "metadata": {
  "kernelspec": {
   "display_name": ".venv",
   "language": "python",
   "name": "python3"
  },
  "language_info": {
   "codemirror_mode": {
    "name": "ipython",
    "version": 3
   },
   "file_extension": ".py",
   "mimetype": "text/x-python",
   "name": "python",
   "nbconvert_exporter": "python",
   "pygments_lexer": "ipython3",
   "version": "3.13.2"
  }
 },
 "nbformat": 4,
 "nbformat_minor": 5
}
